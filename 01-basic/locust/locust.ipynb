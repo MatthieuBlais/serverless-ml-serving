{
 "cells": [
  {
   "cell_type": "markdown",
   "id": "banned-photographer",
   "metadata": {},
   "source": [
    "# Locust"
   ]
  },
  {
   "cell_type": "code",
   "execution_count": 1,
   "id": "verified-valentine",
   "metadata": {},
   "outputs": [
    {
     "name": "stdout",
     "output_type": "stream",
     "text": [
      "Collecting locust\n",
      "  Downloading locust-1.4.3-py3-none-any.whl (764 kB)\n",
      "\u001b[K     |████████████████████████████████| 764 kB 6.1 MB/s eta 0:00:01\n",
      "\u001b[?25hRequirement already satisfied: msgpack>=0.6.2 in /Users/matthieu/dev/freeldom/mlops-framework/venv/lib/python3.8/site-packages (from locust) (1.0.2)\n",
      "Requirement already satisfied: pyzmq>=16.0.2 in /Users/matthieu/dev/freeldom/mlops-framework/venv/lib/python3.8/site-packages (from locust) (21.0.1)\n",
      "Requirement already satisfied: Werkzeug>=1.0.1 in /Users/matthieu/dev/freeldom/mlops-framework/venv/lib/python3.8/site-packages (from locust) (1.0.1)\n",
      "Requirement already satisfied: requests>=2.9.1 in /Users/matthieu/dev/freeldom/mlops-framework/venv/lib/python3.8/site-packages (from locust) (2.25.1)\n",
      "Collecting ConfigArgParse>=1.0\n",
      "  Downloading ConfigArgParse-1.4.tar.gz (45 kB)\n",
      "\u001b[K     |████████████████████████████████| 45 kB 9.1 MB/s  eta 0:00:01\n",
      "\u001b[?25hCollecting flask>=1.1.2\n",
      "  Downloading Flask-1.1.2-py2.py3-none-any.whl (94 kB)\n",
      "\u001b[K     |████████████████████████████████| 94 kB 7.9 MB/s  eta 0:00:01\n",
      "\u001b[?25hRequirement already satisfied: Jinja2>=2.10.1 in /Users/matthieu/dev/freeldom/mlops-framework/venv/lib/python3.8/site-packages (from flask>=1.1.2->locust) (2.11.2)\n",
      "Requirement already satisfied: click>=5.1 in /Users/matthieu/dev/freeldom/mlops-framework/venv/lib/python3.8/site-packages (from flask>=1.1.2->locust) (7.1.2)\n",
      "Collecting Flask-BasicAuth>=0.2.0\n",
      "  Downloading Flask-BasicAuth-0.2.0.tar.gz (16 kB)\n",
      "Collecting gevent>=20.9.0\n",
      "  Downloading gevent-21.1.2-cp38-cp38-macosx_10_14_x86_64.whl (1.8 MB)\n",
      "\u001b[K     |████████████████████████████████| 1.8 MB 18.0 MB/s eta 0:00:01\n",
      "\u001b[?25hRequirement already satisfied: setuptools in /Users/matthieu/dev/freeldom/mlops-framework/venv/lib/python3.8/site-packages (from gevent>=20.9.0->locust) (51.0.0)\n",
      "Collecting geventhttpclient>=1.4.4\n",
      "  Downloading geventhttpclient-1.4.4-cp38-cp38-macosx_10_9_x86_64.whl (36 kB)\n",
      "Requirement already satisfied: six in /Users/matthieu/dev/freeldom/mlops-framework/venv/lib/python3.8/site-packages (from geventhttpclient>=1.4.4->locust) (1.15.0)\n",
      "Requirement already satisfied: certifi in /Users/matthieu/dev/freeldom/mlops-framework/venv/lib/python3.8/site-packages (from geventhttpclient>=1.4.4->locust) (2020.12.5)\n",
      "Collecting greenlet<2.0,>=0.4.17\n",
      "  Downloading greenlet-1.0.0-cp38-cp38-macosx_10_14_x86_64.whl (86 kB)\n",
      "\u001b[K     |████████████████████████████████| 86 kB 15.9 MB/s eta 0:00:01\n",
      "\u001b[?25hCollecting itsdangerous>=0.24\n",
      "  Using cached itsdangerous-1.1.0-py2.py3-none-any.whl (16 kB)\n",
      "Requirement already satisfied: MarkupSafe>=0.23 in /Users/matthieu/dev/freeldom/mlops-framework/venv/lib/python3.8/site-packages (from Jinja2>=2.10.1->flask>=1.1.2->locust) (1.1.1)\n",
      "Collecting psutil>=5.6.7\n",
      "  Downloading psutil-5.8.0-cp38-cp38-macosx_10_9_x86_64.whl (236 kB)\n",
      "\u001b[K     |████████████████████████████████| 236 kB 26.9 MB/s eta 0:00:01\n",
      "\u001b[?25hRequirement already satisfied: idna<3,>=2.5 in /Users/matthieu/dev/freeldom/mlops-framework/venv/lib/python3.8/site-packages (from requests>=2.9.1->locust) (2.10)\n",
      "Requirement already satisfied: urllib3<1.27,>=1.21.1 in /Users/matthieu/dev/freeldom/mlops-framework/venv/lib/python3.8/site-packages (from requests>=2.9.1->locust) (1.26.2)\n",
      "Requirement already satisfied: chardet<5,>=3.0.2 in /Users/matthieu/dev/freeldom/mlops-framework/venv/lib/python3.8/site-packages (from requests>=2.9.1->locust) (4.0.0)\n",
      "Collecting zope.event\n",
      "  Downloading zope.event-4.5.0-py2.py3-none-any.whl (6.8 kB)\n",
      "Collecting zope.interface\n",
      "  Downloading zope.interface-5.3.0-cp38-cp38-macosx_10_14_x86_64.whl (204 kB)\n",
      "\u001b[K     |████████████████████████████████| 204 kB 25.6 MB/s eta 0:00:01\n",
      "\u001b[?25hBuilding wheels for collected packages: ConfigArgParse, Flask-BasicAuth\n",
      "  Building wheel for ConfigArgParse (setup.py) ... \u001b[?25ldone\n",
      "\u001b[?25h  Created wheel for ConfigArgParse: filename=ConfigArgParse-1.4-py3-none-any.whl size=19639 sha256=24f09c020eb6cebc5f16001b5d96e73d0fb5e23dad7ad535f49949d5346a49c5\n",
      "  Stored in directory: /Users/matthieu/Library/Caches/pip/wheels/6c/c3/07/c907f695d63f74c7f3515a46e1a63bcc4600de3748239ce754\n",
      "  Building wheel for Flask-BasicAuth (setup.py) ... \u001b[?25ldone\n",
      "\u001b[?25h  Created wheel for Flask-BasicAuth: filename=Flask_BasicAuth-0.2.0-py3-none-any.whl size=4226 sha256=35b07b8c00897dfbde22c57d40693d299470bc8edbd101300f35294db0e4fc8e\n",
      "  Stored in directory: /Users/matthieu/Library/Caches/pip/wheels/58/74/bd/38e8fd3609bc962b1d807de1f96732ba088908cb1d242e6683\n",
      "Successfully built ConfigArgParse Flask-BasicAuth\n",
      "Installing collected packages: zope.interface, zope.event, itsdangerous, greenlet, gevent, flask, psutil, geventhttpclient, Flask-BasicAuth, ConfigArgParse, locust\n",
      "Successfully installed ConfigArgParse-1.4 Flask-BasicAuth-0.2.0 flask-1.1.2 gevent-21.1.2 geventhttpclient-1.4.4 greenlet-1.0.0 itsdangerous-1.1.0 locust-1.4.3 psutil-5.8.0 zope.event-4.5.0 zope.interface-5.3.0\n",
      "\u001b[33mWARNING: You are using pip version 20.3.3; however, version 21.0.1 is available.\n",
      "You should consider upgrading via the '/Users/matthieu/dev/freeldom/mlops-framework/venv/bin/python -m pip install --upgrade pip' command.\u001b[0m\n"
     ]
    }
   ],
   "source": [
    "!pip install locust"
   ]
  },
  {
   "cell_type": "code",
   "execution_count": 5,
   "id": "improved-prague",
   "metadata": {},
   "outputs": [
    {
     "ename": "KeyboardInterrupt",
     "evalue": "",
     "output_type": "error",
     "traceback": [
      "\u001b[0;31m---------------------------------------------------------------------------\u001b[0m",
      "\u001b[0;31mKeyboardInterrupt\u001b[0m                         Traceback (most recent call last)",
      "\u001b[0;32m<ipython-input-5-35b8f94a8316>\u001b[0m in \u001b[0;36m<module>\u001b[0;34m\u001b[0m\n\u001b[1;32m      1\u001b[0m \u001b[0;32mimport\u001b[0m \u001b[0mtime\u001b[0m\u001b[0;34m\u001b[0m\u001b[0;34m\u001b[0m\u001b[0m\n\u001b[0;32m----> 2\u001b[0;31m \u001b[0;32mfrom\u001b[0m \u001b[0mlocust\u001b[0m \u001b[0;32mimport\u001b[0m \u001b[0mtask\u001b[0m\u001b[0;34m,\u001b[0m \u001b[0mbetween\u001b[0m\u001b[0;34m\u001b[0m\u001b[0;34m\u001b[0m\u001b[0m\n\u001b[0m",
      "\u001b[0;32m/usr/local/opt/python@3.8/Frameworks/Python.framework/Versions/3.8/lib/python3.8/importlib/_bootstrap.py\u001b[0m in \u001b[0;36m_find_and_load\u001b[0;34m(name, import_)\u001b[0m\n",
      "\u001b[0;32m/usr/local/opt/python@3.8/Frameworks/Python.framework/Versions/3.8/lib/python3.8/importlib/_bootstrap.py\u001b[0m in \u001b[0;36m__enter__\u001b[0;34m(self)\u001b[0m\n",
      "\u001b[0;32m/usr/local/opt/python@3.8/Frameworks/Python.framework/Versions/3.8/lib/python3.8/importlib/_bootstrap.py\u001b[0m in \u001b[0;36macquire\u001b[0;34m(self)\u001b[0m\n",
      "\u001b[0;31mKeyboardInterrupt\u001b[0m: "
     ]
    }
   ],
   "source": [
    "import time\n",
    "from locust import task, between\n"
   ]
  },
  {
   "cell_type": "code",
   "execution_count": null,
   "id": "gentle-humanitarian",
   "metadata": {},
   "outputs": [],
   "source": []
  }
 ],
 "metadata": {
  "kernelspec": {
   "display_name": "Python 3",
   "language": "python",
   "name": "python3"
  },
  "language_info": {
   "codemirror_mode": {
    "name": "ipython",
    "version": 3
   },
   "file_extension": ".py",
   "mimetype": "text/x-python",
   "name": "python",
   "nbconvert_exporter": "python",
   "pygments_lexer": "ipython3",
   "version": "3.8.8"
  }
 },
 "nbformat": 4,
 "nbformat_minor": 5
}

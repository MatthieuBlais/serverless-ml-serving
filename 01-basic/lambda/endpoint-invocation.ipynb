{
 "cells": [
  {
   "cell_type": "markdown",
   "id": "working-delta",
   "metadata": {},
   "source": [
    "# Endpoint Invocation"
   ]
  },
  {
   "cell_type": "code",
   "execution_count": 1,
   "id": "pregnant-judge",
   "metadata": {},
   "outputs": [],
   "source": [
    "import json\n",
    "import boto3\n",
    "\n",
    "sagemaker = boto3.client('sagemaker-runtime')\n",
    "ENDPOINT_NAME = 'tensorflow-inference-2021-03-22-13-42-55-037'\n"
   ]
  },
  {
   "cell_type": "code",
   "execution_count": 2,
   "id": "based-replication",
   "metadata": {},
   "outputs": [],
   "source": [
    "result = sagemaker.invoke_endpoint(EndpointName=ENDPOINT_NAME, Body=\"What better way to relax over a nice meal and a bottle of your favorite wine?\")\n",
    "response = json.loads(result['Body'].read())"
   ]
  },
  {
   "cell_type": "code",
   "execution_count": 3,
   "id": "acute-cloud",
   "metadata": {},
   "outputs": [
    {
     "name": "stdout",
     "output_type": "stream",
     "text": [
      "{'predictions': [[0.865202308]]}\n"
     ]
    }
   ],
   "source": [
    "print(response)"
   ]
  },
  {
   "cell_type": "code",
   "execution_count": null,
   "id": "isolated-position",
   "metadata": {},
   "outputs": [],
   "source": []
  }
 ],
 "metadata": {
  "kernelspec": {
   "display_name": "Python 3",
   "language": "python",
   "name": "python3"
  },
  "language_info": {
   "codemirror_mode": {
    "name": "ipython",
    "version": 3
   },
   "file_extension": ".py",
   "mimetype": "text/x-python",
   "name": "python",
   "nbconvert_exporter": "python",
   "pygments_lexer": "ipython3",
   "version": "3.8.8"
  }
 },
 "nbformat": 4,
 "nbformat_minor": 5
}
